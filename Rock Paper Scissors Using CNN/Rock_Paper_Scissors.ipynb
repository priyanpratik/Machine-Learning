{
  "nbformat": 4,
  "nbformat_minor": 0,
  "metadata": {
    "colab": {
      "provenance": []
    },
    "kernelspec": {
      "name": "python3",
      "display_name": "Python 3"
    },
    "language_info": {
      "name": "python"
    },
    "gpuClass": "standard",
    "accelerator": "GPU"
  },
  "cells": [
    {
      "cell_type": "code",
      "execution_count": 154,
      "metadata": {
        "colab": {
          "base_uri": "https://localhost:8080/"
        },
        "id": "mDbV57Cll-yX",
        "outputId": "cecce2bb-e506-4b17-a126-7d37ebc3b5e0"
      },
      "outputs": [
        {
          "output_type": "stream",
          "name": "stdout",
          "text": [
            "Sat Oct 29 06:28:54 2022       \n",
            "+-----------------------------------------------------------------------------+\n",
            "| NVIDIA-SMI 460.32.03    Driver Version: 460.32.03    CUDA Version: 11.2     |\n",
            "|-------------------------------+----------------------+----------------------+\n",
            "| GPU  Name        Persistence-M| Bus-Id        Disp.A | Volatile Uncorr. ECC |\n",
            "| Fan  Temp  Perf  Pwr:Usage/Cap|         Memory-Usage | GPU-Util  Compute M. |\n",
            "|                               |                      |               MIG M. |\n",
            "|===============================+======================+======================|\n",
            "|   0  Tesla T4            Off  | 00000000:00:04.0 Off |                    0 |\n",
            "| N/A   46C    P0    28W /  70W |   2946MiB / 15109MiB |      0%      Default |\n",
            "|                               |                      |                  N/A |\n",
            "+-------------------------------+----------------------+----------------------+\n",
            "                                                                               \n",
            "+-----------------------------------------------------------------------------+\n",
            "| Processes:                                                                  |\n",
            "|  GPU   GI   CI        PID   Type   Process name                  GPU Memory |\n",
            "|        ID   ID                                                   Usage      |\n",
            "|=============================================================================|\n",
            "+-----------------------------------------------------------------------------+\n"
          ]
        }
      ],
      "source": [
        "!nvidia-smi"
      ]
    },
    {
      "cell_type": "code",
      "source": [
        "import numpy as np\n",
        "import os\n",
        "import cv2\n",
        "import matplotlib.pyplot as plt\n",
        "import matplotlib.colors as pltcol\n",
        "import tensorflow as tf\n",
        "import keras\n",
        "import PIL\n",
        "from PIL import Image"
      ],
      "metadata": {
        "id": "n6ciCI0Szdv_"
      },
      "execution_count": 82,
      "outputs": []
    },
    {
      "cell_type": "markdown",
      "source": [
        "# **EXTRACTING IMAGES FROM TRAINING FOLDER AND CONVERTING INTO TRAINING ARRAY DATASET**"
      ],
      "metadata": {
        "id": "NE2vHDxr8fUR"
      }
    },
    {
      "cell_type": "code",
      "source": [
        "train_path='/content/drive/MyDrive/Colab Notebooks/DATASETS/Rock-Paper-Scissors/train'"
      ],
      "metadata": {
        "id": "8xn7vNNHvyBJ"
      },
      "execution_count": 5,
      "outputs": []
    },
    {
      "cell_type": "code",
      "source": [
        "train_folders=[]\n",
        "for fol in os.listdir(train_path):\n",
        "  train_folders.append(fol)\n",
        "\n",
        "print(type(train_folders))"
      ],
      "metadata": {
        "colab": {
          "base_uri": "https://localhost:8080/"
        },
        "id": "AvEkir8Ywdu9",
        "outputId": "82340642-cb20-40e9-88da-19444746d341"
      },
      "execution_count": 6,
      "outputs": [
        {
          "output_type": "stream",
          "name": "stdout",
          "text": [
            "<class 'list'>\n"
          ]
        }
      ]
    },
    {
      "cell_type": "markdown",
      "source": [
        "**EXTRACTING ROCK IMAGES**"
      ],
      "metadata": {
        "id": "9aazBePC4JJB"
      }
    },
    {
      "cell_type": "code",
      "source": [
        "rock_path=train_path+'/rock'\n",
        "rock_images=os.listdir(rock_path)\n",
        "x_train_rock=[]\n",
        "for file in rock_images:\n",
        "  img_path=rock_path+'/'+file\n",
        "  img=plt.imread(img_path)\n",
        "  img=cv2.resize(img,(64,64))\n",
        "  img_2d=np.array(img)\n",
        "  x_train_rock.append(img_2d)\n",
        "\n",
        "len(x_train_rock)"
      ],
      "metadata": {
        "colab": {
          "base_uri": "https://localhost:8080/"
        },
        "id": "TKNww-A8x8up",
        "outputId": "02bbd8fe-e73b-4e49-dab8-602aad79a674"
      },
      "execution_count": 7,
      "outputs": [
        {
          "output_type": "execute_result",
          "data": {
            "text/plain": [
              "840"
            ]
          },
          "metadata": {},
          "execution_count": 7
        }
      ]
    },
    {
      "cell_type": "code",
      "source": [
        "plt.imshow(x_train_rock[5])"
      ],
      "metadata": {
        "colab": {
          "base_uri": "https://localhost:8080/",
          "height": 285
        },
        "id": "exqeM6IE1GT2",
        "outputId": "021e5916-ac70-4653-8e38-4e8fe0cee14a"
      },
      "execution_count": 8,
      "outputs": [
        {
          "output_type": "execute_result",
          "data": {
            "text/plain": [
              "<matplotlib.image.AxesImage at 0x7f455102c510>"
            ]
          },
          "metadata": {},
          "execution_count": 8
        },
        {
          "output_type": "display_data",
          "data": {
            "text/plain": [
              "<Figure size 432x288 with 1 Axes>"
            ],
            "image/png": "[encoded data removed]"
          },
          "metadata": {
            "needs_background": "light"
          }
        }
      ]
    },
    {
      "cell_type": "markdown",
      "source": [
        "**EXTRACTING PAPER IMAGES**"
      ],
      "metadata": {
        "id": "QvzXGCbt4PF8"
      }
    },
    {
      "cell_type": "code",
      "source": [
        "paper_path=train_path+'/paper'\n",
        "paper_images=os.listdir(paper_path)\n",
        "x_train_paper=[]\n",
        "\n",
        "for file in paper_images:\n",
        "  img_path=paper_path+'/'+file\n",
        "  img=plt.imread(img_path)\n",
        "  img=cv2.resize(img,(64,64))\n",
        "  img_2d=np.array(img)\n",
        "  x_train_paper.append(img_2d)\n",
        "\n",
        "len(x_train_paper)"
      ],
      "metadata": {
        "colab": {
          "base_uri": "https://localhost:8080/"
        },
        "id": "nW7RxJ5o4Hvq",
        "outputId": "f4c210ec-6c8c-4dc6-9ad3-05125c47558b"
      },
      "execution_count": 9,
      "outputs": [
        {
          "output_type": "execute_result",
          "data": {
            "text/plain": [
              "840"
            ]
          },
          "metadata": {},
          "execution_count": 9
        }
      ]
    },
    {
      "cell_type": "code",
      "source": [
        "plt.imshow(x_train_paper[5])"
      ],
      "metadata": {
        "colab": {
          "base_uri": "https://localhost:8080/",
          "height": 285
        },
        "id": "USCCccQt55BS",
        "outputId": "2a7a598b-4fb7-4a79-8f0c-131a98d39d7b"
      },
      "execution_count": 10,
      "outputs": [
        {
          "output_type": "execute_result",
          "data": {
            "text/plain": [
              "<matplotlib.image.AxesImage at 0x7f4550f851d0>"
            ]
          },
          "metadata": {},
          "execution_count": 10
        },
        {
          "output_type": "display_data",
          "data": {
            "text/plain": [
              "<Figure size 432x288 with 1 Axes>"
            ],
            "image/png": "[encoded data removed]"
          },
          "metadata": {
            "needs_background": "light"
          }
        }
      ]
    },
    {
      "cell_type": "markdown",
      "source": [
        "**EXTRACTING SCISSORS IMAGES**"
      ],
      "metadata": {
        "id": "1tRU_8fP6obr"
      }
    },
    {
      "cell_type": "code",
      "source": [
        "scissors_path=train_path+'/scissors'\n",
        "scissors_images=os.listdir(scissors_path)\n",
        "x_train_scissors=[]\n",
        "\n",
        "for file in scissors_images:\n",
        "  img_path=scissors_path+'/'+file\n",
        "  img=plt.imread(img_path)\n",
        "  img=cv2.resize(img,(64,64))\n",
        "  img_2d=np.array(img)\n",
        "  x_train_scissors.append(img_2d)\n",
        "\n",
        "len(x_train_scissors)"
      ],
      "metadata": {
        "colab": {
          "base_uri": "https://localhost:8080/"
        },
        "id": "o8z1MIZb6nac",
        "outputId": "07f8061d-b1d1-4423-efbc-4cfa20b5e57e"
      },
      "execution_count": 11,
      "outputs": [
        {
          "output_type": "execute_result",
          "data": {
            "text/plain": [
              "840"
            ]
          },
          "metadata": {},
          "execution_count": 11
        }
      ]
    },
    {
      "cell_type": "code",
      "source": [
        "plt.imshow(x_train_scissors[5])"
      ],
      "metadata": {
        "colab": {
          "base_uri": "https://localhost:8080/",
          "height": 285
        },
        "id": "FmAjNw8Y8T_O",
        "outputId": "8b806b0b-97b6-41b5-9505-abddea4bcba0"
      },
      "execution_count": 12,
      "outputs": [
        {
          "output_type": "execute_result",
          "data": {
            "text/plain": [
              "<matplotlib.image.AxesImage at 0x7f4550eae410>"
            ]
          },
          "metadata": {},
          "execution_count": 12
        },
        {
          "output_type": "display_data",
          "data": {
            "text/plain": [
              "<Figure size 432x288 with 1 Axes>"
            ],
            "image/png": "[encoded data removed]"
          },
          "metadata": {
            "needs_background": "light"
          }
        }
      ]
    },
    {
      "cell_type": "code",
      "source": [
        "x_train=x_train_rock+x_train_paper+x_train_scissors\n",
        "x_train=np.array(x_train)"
      ],
      "metadata": {
        "id": "ON0ugbTA803c"
      },
      "execution_count": 13,
      "outputs": []
    },
    {
      "cell_type": "code",
      "source": [
        "x_train.shape"
      ],
      "metadata": {
        "colab": {
          "base_uri": "https://localhost:8080/"
        },
        "id": "mlU4AVg29bI1",
        "outputId": "d56de948-b77c-4d02-cb79-856713e99b6c"
      },
      "execution_count": 14,
      "outputs": [
        {
          "output_type": "execute_result",
          "data": {
            "text/plain": [
              "(2520, 64, 64, 4)"
            ]
          },
          "metadata": {},
          "execution_count": 14
        }
      ]
    },
    {
      "cell_type": "markdown",
      "source": [
        "**CREATING TRAINING LABELS**"
      ],
      "metadata": {
        "id": "HquKAejp8uF5"
      }
    },
    {
      "cell_type": "code",
      "source": [
        "y_train=np.empty(2520)\n",
        "for i in range(0,840):\n",
        "    y_train[i] = 0\n",
        "\n",
        "for i in range(840,1680):\n",
        "    y_train[i] = 1\n",
        "\n",
        "for i in range(1680,2520):\n",
        "    y_train[i] = 2\n"
      ],
      "metadata": {
        "id": "YK-iwHme13Ex"
      },
      "execution_count": 15,
      "outputs": []
    },
    {
      "cell_type": "code",
      "source": [
        "y_train.shape"
      ],
      "metadata": {
        "colab": {
          "base_uri": "https://localhost:8080/"
        },
        "id": "KWv-akBi20j8",
        "outputId": "f24d0a74-8771-479e-ee83-da6ca4530e22"
      },
      "execution_count": 16,
      "outputs": [
        {
          "output_type": "execute_result",
          "data": {
            "text/plain": [
              "(2520,)"
            ]
          },
          "metadata": {},
          "execution_count": 16
        }
      ]
    },
    {
      "cell_type": "code",
      "source": [
        "plt.imshow(x_train[839])\n",
        "y_train[839]"
      ],
      "metadata": {
        "colab": {
          "base_uri": "https://localhost:8080/",
          "height": 285
        },
        "id": "Ah-hs4Z29m8N",
        "outputId": "39f88d05-14ad-411d-bd3b-9b70de88a2d2"
      },
      "execution_count": 17,
      "outputs": [
        {
          "output_type": "execute_result",
          "data": {
            "text/plain": [
              "0.0"
            ]
          },
          "metadata": {},
          "execution_count": 17
        },
        {
          "output_type": "display_data",
          "data": {
            "text/plain": [
              "<Figure size 432x288 with 1 Axes>"
            ],
            "image/png": "[encoded data removed]"
          },
          "metadata": {
            "needs_background": "light"
          }
        }
      ]
    },
    {
      "cell_type": "markdown",
      "source": [
        "# **EXTRACTING IMAGES FROM TESTING FOLDER AND CONVERTING INTO TESTING ARRAY DATASET**"
      ],
      "metadata": {
        "id": "OxwHy-TrQw6N"
      }
    },
    {
      "cell_type": "code",
      "source": [
        "test_path='/content/drive/MyDrive/Colab Notebooks/DATASETS/Rock-Paper-Scissors/test'"
      ],
      "metadata": {
        "id": "G-enFz-bR87i"
      },
      "execution_count": 18,
      "outputs": []
    },
    {
      "cell_type": "code",
      "source": [
        "test_folders=[]\n",
        "\n",
        "for fol in os.listdir(test_path):\n",
        "  test_folders.append(fol)\n",
        "\n",
        "test_folders"
      ],
      "metadata": {
        "colab": {
          "base_uri": "https://localhost:8080/"
        },
        "id": "Br5jBCDoSW6q",
        "outputId": "669fb664-a42f-4934-f267-5ea87a7d9d31"
      },
      "execution_count": 19,
      "outputs": [
        {
          "output_type": "execute_result",
          "data": {
            "text/plain": [
              "['rock', 'scissors', 'paper']"
            ]
          },
          "metadata": {},
          "execution_count": 19
        }
      ]
    },
    {
      "cell_type": "markdown",
      "source": [
        "**EXTRACTING ROCK IMAGES**"
      ],
      "metadata": {
        "id": "26iE8BvUYrXF"
      }
    },
    {
      "cell_type": "code",
      "source": [
        "rock_path=test_path+'/rock'\n",
        "rock_images=os.listdir(rock_path)\n",
        "\n",
        "x_test_rock=[]\n",
        "for file in rock_images:\n",
        "  img_path=rock_path+'/'+file\n",
        "  img=plt.imread(img_path)\n",
        "  img=cv2.resize(img,(64,64))\n",
        "  img2d=np.array(img)\n",
        "  x_test_rock.append(img2d)\n",
        "\n",
        "len(x_test_rock)"
      ],
      "metadata": {
        "colab": {
          "base_uri": "https://localhost:8080/"
        },
        "id": "RBlSqNhdWavt",
        "outputId": "ba32941f-aac7-4fcd-cebf-7f13b9b653b6"
      },
      "execution_count": 20,
      "outputs": [
        {
          "output_type": "execute_result",
          "data": {
            "text/plain": [
              "124"
            ]
          },
          "metadata": {},
          "execution_count": 20
        }
      ]
    },
    {
      "cell_type": "code",
      "source": [
        "plt.imshow(x_test_rock[5])"
      ],
      "metadata": {
        "colab": {
          "base_uri": "https://localhost:8080/",
          "height": 285
        },
        "id": "YAIA4Ip4Yn1F",
        "outputId": "0755eb2b-25c3-45f8-e3a3-6e440c75f8f4"
      },
      "execution_count": 21,
      "outputs": [
        {
          "output_type": "execute_result",
          "data": {
            "text/plain": [
              "<matplotlib.image.AxesImage at 0x7f4550e157d0>"
            ]
          },
          "metadata": {},
          "execution_count": 21
        },
        {
          "output_type": "display_data",
          "data": {
            "text/plain": [
              "<Figure size 432x288 with 1 Axes>"
            ],
            "image/png": "[encoded data removed]"
          },
          "metadata": {
            "needs_background": "light"
          }
        }
      ]
    },
    {
      "cell_type": "markdown",
      "source": [
        "**EXTRACTING PAPER SCISSORS**"
      ],
      "metadata": {
        "id": "vjT1Xzy-ZHB0"
      }
    },
    {
      "cell_type": "code",
      "source": [
        "paper_path=test_path+'/paper'\n",
        "paper_images=os.listdir(paper_path)\n",
        "\n",
        "x_test_paper=[]\n",
        "for file in paper_images:\n",
        "  img_path=paper_path+'/'+file\n",
        "  img=plt.imread(img_path)\n",
        "  img=cv2.resize(img,(64,64))\n",
        "  img_2d=np.array(img)\n",
        "  x_test_paper.append(img_2d)\n",
        "\n",
        "len(x_test_paper)"
      ],
      "metadata": {
        "colab": {
          "base_uri": "https://localhost:8080/"
        },
        "id": "DLvbqH-4ZOdd",
        "outputId": "810e1efa-e993-42af-9727-181afcf3467e"
      },
      "execution_count": 22,
      "outputs": [
        {
          "output_type": "execute_result",
          "data": {
            "text/plain": [
              "124"
            ]
          },
          "metadata": {},
          "execution_count": 22
        }
      ]
    },
    {
      "cell_type": "code",
      "source": [
        "plt.imshow(x_test_paper[5])"
      ],
      "metadata": {
        "colab": {
          "base_uri": "https://localhost:8080/",
          "height": 285
        },
        "id": "PKpuOGmLbD4J",
        "outputId": "60f547b3-5ff6-44a8-a279-a5cde1ebee16"
      },
      "execution_count": 23,
      "outputs": [
        {
          "output_type": "execute_result",
          "data": {
            "text/plain": [
              "<matplotlib.image.AxesImage at 0x7f4550d75e50>"
            ]
          },
          "metadata": {},
          "execution_count": 23
        },
        {
          "output_type": "display_data",
          "data": {
            "text/plain": [
              "<Figure size 432x288 with 1 Axes>"
            ],
            "image/png": "[encoded data removed]"
          },
          "metadata": {
            "needs_background": "light"
          }
        }
      ]
    },
    {
      "cell_type": "markdown",
      "source": [
        "**EXTRACTING SCISSORS IMAGES**"
      ],
      "metadata": {
        "id": "obeL0i5NgRi5"
      }
    },
    {
      "cell_type": "code",
      "source": [
        "scissors_path=test_path+'/scissors'\n",
        "scissors_images=os.listdir(scissors_path)\n",
        "\n",
        "x_test_scissors=[]\n",
        "for file in scissors_images:\n",
        "  img_path=scissors_path+'/'+file\n",
        "  img=plt.imread(img_path)\n",
        "  img=cv2.resize(img,(64,64))\n",
        "  img_2d=np.array(img)\n",
        "  x_test_scissors.append(img_2d)\n",
        "\n",
        "len(x_test_scissors)"
      ],
      "metadata": {
        "colab": {
          "base_uri": "https://localhost:8080/"
        },
        "id": "ymad6VvTgQ9s",
        "outputId": "571191f7-68e9-4ddc-de94-df0dde07f408"
      },
      "execution_count": 24,
      "outputs": [
        {
          "output_type": "execute_result",
          "data": {
            "text/plain": [
              "124"
            ]
          },
          "metadata": {},
          "execution_count": 24
        }
      ]
    },
    {
      "cell_type": "code",
      "source": [
        "plt.imshow(x_test_scissors[5])"
      ],
      "metadata": {
        "colab": {
          "base_uri": "https://localhost:8080/",
          "height": 285
        },
        "id": "Sjd9u8i8lg6l",
        "outputId": "d891afbe-617d-46f7-a9b7-73359911c2a0"
      },
      "execution_count": 25,
      "outputs": [
        {
          "output_type": "execute_result",
          "data": {
            "text/plain": [
              "<matplotlib.image.AxesImage at 0x7f4550ce4990>"
            ]
          },
          "metadata": {},
          "execution_count": 25
        },
        {
          "output_type": "display_data",
          "data": {
            "text/plain": [
              "<Figure size 432x288 with 1 Axes>"
            ],
            "image/png": "[encoded data removed]"
          },
          "metadata": {
            "needs_background": "light"
          }
        }
      ]
    },
    {
      "cell_type": "code",
      "source": [
        "x_test=x_test_rock+x_test_paper+x_test_scissors\n",
        "x_test=np.array(x_test)"
      ],
      "metadata": {
        "id": "VmngeYUzra96"
      },
      "execution_count": 26,
      "outputs": []
    },
    {
      "cell_type": "code",
      "source": [
        "x_test.shape"
      ],
      "metadata": {
        "colab": {
          "base_uri": "https://localhost:8080/"
        },
        "id": "bmnVWL-6rm7Q",
        "outputId": "f7112c26-16bd-4952-e061-56a81fe5b21a"
      },
      "execution_count": 27,
      "outputs": [
        {
          "output_type": "execute_result",
          "data": {
            "text/plain": [
              "(372, 64, 64, 4)"
            ]
          },
          "metadata": {},
          "execution_count": 27
        }
      ]
    },
    {
      "cell_type": "markdown",
      "source": [
        "**CREATING TRAINING LABELS**"
      ],
      "metadata": {
        "id": "CSKIcfsCozYl"
      }
    },
    {
      "cell_type": "code",
      "source": [
        "y_test=np.empty(372)\n",
        "\n",
        "for i in range(0,124):\n",
        "  y_test[i]=0\n",
        "  y_test[i+124]=1\n",
        "  y_test[i+248]=2"
      ],
      "metadata": {
        "id": "vjOzteTjovNY"
      },
      "execution_count": 28,
      "outputs": []
    },
    {
      "cell_type": "code",
      "source": [
        "plt.imshow(x_test[248])\n",
        "y_test[248]"
      ],
      "metadata": {
        "colab": {
          "base_uri": "https://localhost:8080/",
          "height": 285
        },
        "id": "uU0RPo6xq7p7",
        "outputId": "d2a8ffea-a397-42a9-d3b0-127d598a1b1f"
      },
      "execution_count": 29,
      "outputs": [
        {
          "output_type": "execute_result",
          "data": {
            "text/plain": [
              "2.0"
            ]
          },
          "metadata": {},
          "execution_count": 29
        },
        {
          "output_type": "display_data",
          "data": {
            "text/plain": [
              "<Figure size 432x288 with 1 Axes>"
            ],
            "image/png": "[encoded data removed]"
          },
          "metadata": {
            "needs_background": "light"
          }
        }
      ]
    },
    {
      "cell_type": "markdown",
      "source": [
        "# **CREATING NEURAL NETWORK USING CNN AND TRAINING MODEL**"
      ],
      "metadata": {
        "id": "4jhN0YdQsC2g"
      }
    },
    {
      "cell_type": "code",
      "source": [
        "y_train=keras.utils.to_categorical(y_train)\n",
        "y_test=keras.utils.to_categorical(y_test)"
      ],
      "metadata": {
        "id": "uRyzi--L3cXS"
      },
      "execution_count": 30,
      "outputs": []
    },
    {
      "cell_type": "code",
      "source": [
        "# x_train=x_train/255.0\n",
        "# x_test=x_test/255.0"
      ],
      "metadata": {
        "id": "m4lT0x9F3lTp"
      },
      "execution_count": 31,
      "outputs": []
    },
    {
      "cell_type": "code",
      "source": [
        "print(x_train.shape,y_train.shape)\n",
        "print(x_test.shape,y_test.shape)"
      ],
      "metadata": {
        "colab": {
          "base_uri": "https://localhost:8080/"
        },
        "id": "ohCJkAKKsCh9",
        "outputId": "a4b5a000-935b-4f80-d5a0-407eb9f98f76"
      },
      "execution_count": 32,
      "outputs": [
        {
          "output_type": "stream",
          "name": "stdout",
          "text": [
            "(2520, 64, 64, 4) (2520, 3)\n",
            "(372, 64, 64, 4) (372, 3)\n"
          ]
        }
      ]
    },
    {
      "cell_type": "code",
      "source": [
        "model=keras.Sequential([\n",
        "    keras.layers.Conv2D(32,(3,3),activation='relu',input_shape=(64,64,4)),\n",
        "    keras.layers.MaxPooling2D((2,2)),\n",
        "\n",
        "    keras.layers.Conv2D(64,(3,3),activation='relu'),\n",
        "    keras.layers.MaxPooling2D((2,2)),\n",
        "\n",
        "    keras.layers.Conv2D(128,(3,3),activation='relu'),\n",
        "    keras.layers.MaxPooling2D((2,2)),\n",
        "\n",
        "    keras.layers.Conv2D(256,(3,3),activation='relu'),\n",
        "    keras.layers.MaxPooling2D((2,2)),\n",
        "\n",
        "    keras.layers.Flatten(),\n",
        "    keras.layers.Dropout(0.5),\n",
        "    keras.layers.Dense(512,activation='relu'),\n",
        "    keras.layers.Dense(1024,activation='relu'),\n",
        "    keras.layers.Dense(3,activation='softmax')\n",
        "])"
      ],
      "metadata": {
        "id": "S4mcMymkt0xT"
      },
      "execution_count": 178,
      "outputs": []
    },
    {
      "cell_type": "code",
      "source": [
        "model.summary()"
      ],
      "metadata": {
        "colab": {
          "base_uri": "https://localhost:8080/"
        },
        "id": "cvufyBUh1VSt",
        "outputId": "b1c92302-40ef-4216-c354-87fce70eeefa"
      },
      "execution_count": 179,
      "outputs": [
        {
          "output_type": "stream",
          "name": "stdout",
          "text": [
            "Model: \"sequential_10\"\n",
            "_________________________________________________________________\n",
            " Layer (type)                Output Shape              Param #   \n",
            "=================================================================\n",
            " conv2d_40 (Conv2D)          (None, 62, 62, 32)        1184      \n",
            "                                                                 \n",
            " max_pooling2d_40 (MaxPoolin  (None, 31, 31, 32)       0         \n",
            " g2D)                                                            \n",
            "                                                                 \n",
            " conv2d_41 (Conv2D)          (None, 29, 29, 64)        18496     \n",
            "                                                                 \n",
            " max_pooling2d_41 (MaxPoolin  (None, 14, 14, 64)       0         \n",
            " g2D)                                                            \n",
            "                                                                 \n",
            " conv2d_42 (Conv2D)          (None, 12, 12, 128)       73856     \n",
            "                                                                 \n",
            " max_pooling2d_42 (MaxPoolin  (None, 6, 6, 128)        0         \n",
            " g2D)                                                            \n",
            "                                                                 \n",
            " conv2d_43 (Conv2D)          (None, 4, 4, 256)         295168    \n",
            "                                                                 \n",
            " max_pooling2d_43 (MaxPoolin  (None, 2, 2, 256)        0         \n",
            " g2D)                                                            \n",
            "                                                                 \n",
            " flatten_10 (Flatten)        (None, 1024)              0         \n",
            "                                                                 \n",
            " dropout_9 (Dropout)         (None, 1024)              0         \n",
            "                                                                 \n",
            " dense_27 (Dense)            (None, 512)               524800    \n",
            "                                                                 \n",
            " dense_28 (Dense)            (None, 1024)              525312    \n",
            "                                                                 \n",
            " dense_29 (Dense)            (None, 3)                 3075      \n",
            "                                                                 \n",
            "=================================================================\n",
            "Total params: 1,441,891\n",
            "Trainable params: 1,441,891\n",
            "Non-trainable params: 0\n",
            "_________________________________________________________________\n"
          ]
        }
      ]
    },
    {
      "cell_type": "code",
      "source": [
        "model.compile(optimizer='adam',loss='categorical_crossentropy',metrics=['accuracy'])"
      ],
      "metadata": {
        "id": "6nUWk7cU1eW1"
      },
      "execution_count": 180,
      "outputs": []
    },
    {
      "cell_type": "code",
      "source": [
        "model.fit(x_train,y_train,epochs=10,batch_size=50)"
      ],
      "metadata": {
        "colab": {
          "base_uri": "https://localhost:8080/"
        },
        "id": "ACPBd6fx1uTW",
        "outputId": "ee84576c-2531-4047-eae4-3a65a625cd1e"
      },
      "execution_count": 181,
      "outputs": [
        {
          "output_type": "stream",
          "name": "stdout",
          "text": [
            "Epoch 1/10\n",
            "51/51 [==============================] - 1s 13ms/step - loss: 0.6962 - accuracy: 0.6627\n",
            "Epoch 2/10\n",
            "51/51 [==============================] - 1s 11ms/step - loss: 0.0701 - accuracy: 0.9758\n",
            "Epoch 3/10\n",
            "51/51 [==============================] - 1s 11ms/step - loss: 0.0133 - accuracy: 0.9944\n",
            "Epoch 4/10\n",
            "51/51 [==============================] - 1s 12ms/step - loss: 0.0216 - accuracy: 0.9937\n",
            "Epoch 5/10\n",
            "51/51 [==============================] - 1s 11ms/step - loss: 0.0054 - accuracy: 0.9976\n",
            "Epoch 6/10\n",
            "51/51 [==============================] - 1s 10ms/step - loss: 0.0344 - accuracy: 0.9881\n",
            "Epoch 7/10\n",
            "51/51 [==============================] - 1s 10ms/step - loss: 0.0064 - accuracy: 0.9976\n",
            "Epoch 8/10\n",
            "51/51 [==============================] - 1s 10ms/step - loss: 5.7819e-04 - accuracy: 1.0000\n",
            "Epoch 9/10\n",
            "51/51 [==============================] - 0s 10ms/step - loss: 9.4946e-05 - accuracy: 1.0000\n",
            "Epoch 10/10\n",
            "51/51 [==============================] - 0s 10ms/step - loss: 7.8238e-05 - accuracy: 1.0000\n"
          ]
        },
        {
          "output_type": "execute_result",
          "data": {
            "text/plain": [
              "<keras.callbacks.History at 0x7f43dd4ba710>"
            ]
          },
          "metadata": {},
          "execution_count": 181
        }
      ]
    },
    {
      "cell_type": "code",
      "source": [
        "model.evaluate(x_test,y_test)"
      ],
      "metadata": {
        "colab": {
          "base_uri": "https://localhost:8080/"
        },
        "id": "7WLY6sM-7Xvl",
        "outputId": "2ef38383-6f2c-4d39-c981-9152ecdfac37"
      },
      "execution_count": 182,
      "outputs": [
        {
          "output_type": "stream",
          "name": "stdout",
          "text": [
            "12/12 [==============================] - 0s 6ms/step - loss: 0.0454 - accuracy: 0.9677\n"
          ]
        },
        {
          "output_type": "execute_result",
          "data": {
            "text/plain": [
              "[0.045375172048807144, 0.9677419066429138]"
            ]
          },
          "metadata": {},
          "execution_count": 182
        }
      ]
    },
    {
      "cell_type": "markdown",
      "source": [],
      "metadata": {
        "id": "ZxapBcEkD8zb"
      }
    },
    {
      "cell_type": "markdown",
      "source": [
        "# **VALIDATING MY MODEL WITH SELF CLICKED PICTURES OF ROCK PAPER & SCISSORS**"
      ],
      "metadata": {
        "id": "xm4b7n34-Tlg"
      }
    },
    {
      "cell_type": "code",
      "source": [
        "from google.colab import files\n",
        "uploaded=files.upload()\n",
        "\n",
        "file=\"\"\n",
        "for fn in uploaded.keys():\n",
        "  file=fn"
      ],
      "metadata": {
        "id": "7c4LcpCYD8fI",
        "colab": {
          "base_uri": "https://localhost:8080/",
          "height": 74
        },
        "outputId": "1ff419ec-59ab-436d-a6cc-4cbd5895f858"
      },
      "execution_count": 143,
      "outputs": [
        {
          "output_type": "display_data",
          "data": {
            "text/plain": [
              "<IPython.core.display.HTML object>"
            ],
            "text/html": [
              "\n",
              "     <input type=\"file\" id=\"files-7f709045-2951-4867-aa9a-e6ac63688f40\" name=\"files[]\" multiple disabled\n",
              "        style=\"border:none\" />\n",
              "     <output id=\"result-7f709045-2951-4867-aa9a-e6ac63688f40\">\n",
              "      Upload widget is only available when the cell has been executed in the\n",
              "      current browser session. Please rerun this cell to enable.\n",
              "      </output>\n",
              "      <script>// Copyright 2017 Google LLC\n",
              "//\n",
              "// Licensed under the Apache License, Version 2.0 (the \"License\");\n",
              "// you may not use this file except in compliance with the License.\n",
              "// You may obtain a copy of the License at\n",
              "//\n",
              "//      http://www.apache.org/licenses/LICENSE-2.0\n",
              "//\n",
              "// Unless required by applicable law or agreed to in writing, software\n",
              "// distributed under the License is distributed on an \"AS IS\" BASIS,\n",
              "// WITHOUT WARRANTIES OR CONDITIONS OF ANY KIND, either express or implied.\n",
              "// See the License for the specific language governing permissions and\n",
              "// limitations under the License.\n",
              "\n",
              "/**\n",
              " * @fileoverview Helpers for google.colab Python module.\n",
              " */\n",
              "(function(scope) {\n",
              "function span(text, styleAttributes = {}) {\n",
              "  const element = document.createElement('span');\n",
              "  element.textContent = text;\n",
              "  for (const key of Object.keys(styleAttributes)) {\n",
              "    element.style[key] = styleAttributes[key];\n",
              "  }\n",
              "  return element;\n",
              "}\n",
              "\n",
              "// Max number of bytes which will be uploaded at a time.\n",
              "const MAX_PAYLOAD_SIZE = 100 * 1024;\n",
              "\n",
              "function _uploadFiles(inputId, outputId) {\n",
              "  const steps = uploadFilesStep(inputId, outputId);\n",
              "  const outputElement = document.getElementById(outputId);\n",
              "  // Cache steps on the outputElement to make it available for the next call\n",
              "  // to uploadFilesContinue from Python.\n",
              "  outputElement.steps = steps;\n",
              "\n",
              "  return _uploadFilesContinue(outputId);\n",
              "}\n",
              "\n",
              "// This is roughly an async generator (not supported in the browser yet),\n",
              "// where there are multiple asynchronous steps and the Python side is going\n",
              "// to poll for completion of each step.\n",
              "// This uses a Promise to block the python side on completion of each step,\n",
              "// then passes the result of the previous step as the input to the next step.\n",
              "function _uploadFilesContinue(outputId) {\n",
              "  const outputElement = document.getElementById(outputId);\n",
              "  const steps = outputElement.steps;\n",
              "\n",
              "  const next = steps.next(outputElement.lastPromiseValue);\n",
              "  return Promise.resolve(next.value.promise).then((value) => {\n",
              "    // Cache the last promise value to make it available to the next\n",
              "    // step of the generator.\n",
              "    outputElement.lastPromiseValue = value;\n",
              "    return next.value.response;\n",
              "  });\n",
              "}\n",
              "\n",
              "/**\n",
              " * Generator function which is called between each async step of the upload\n",
              " * process.\n",
              " * @param {string} inputId Element ID of the input file picker element.\n",
              " * @param {string} outputId Element ID of the output display.\n",
              " * @return {!Iterable<!Object>} Iterable of next steps.\n",
              " */\n",
              "function* uploadFilesStep(inputId, outputId) {\n",
              "  const inputElement = document.getElementById(inputId);\n",
              "  inputElement.disabled = false;\n",
              "\n",
              "  const outputElement = document.getElementById(outputId);\n",
              "  outputElement.innerHTML = '';\n",
              "\n",
              "  const pickedPromise = new Promise((resolve) => {\n",
              "    inputElement.addEventListener('change', (e) => {\n",
              "      resolve(e.target.files);\n",
              "    });\n",
              "  });\n",
              "\n",
              "  const cancel = document.createElement('button');\n",
              "  inputElement.parentElement.appendChild(cancel);\n",
              "  cancel.textContent = 'Cancel upload';\n",
              "  const cancelPromise = new Promise((resolve) => {\n",
              "    cancel.onclick = () => {\n",
              "      resolve(null);\n",
              "    };\n",
              "  });\n",
              "\n",
              "  // Wait for the user to pick the files.\n",
              "  const files = yield {\n",
              "    promise: Promise.race([pickedPromise, cancelPromise]),\n",
              "    response: {\n",
              "      action: 'starting',\n",
              "    }\n",
              "  };\n",
              "\n",
              "  cancel.remove();\n",
              "\n",
              "  // Disable the input element since further picks are not allowed.\n",
              "  inputElement.disabled = true;\n",
              "\n",
              "  if (!files) {\n",
              "    return {\n",
              "      response: {\n",
              "        action: 'complete',\n",
              "      }\n",
              "    };\n",
              "  }\n",
              "\n",
              "  for (const file of files) {\n",
              "    const li = document.createElement('li');\n",
              "    li.append(span(file.name, {fontWeight: 'bold'}));\n",
              "    li.append(span(\n",
              "        `(${file.type || 'n/a'}) - ${file.size} bytes, ` +\n",
              "        `last modified: ${\n",
              "            file.lastModifiedDate ? file.lastModifiedDate.toLocaleDateString() :\n",
              "                                    'n/a'} - `));\n",
              "    const percent = span('0% done');\n",
              "    li.appendChild(percent);\n",
              "\n",
              "    outputElement.appendChild(li);\n",
              "\n",
              "    const fileDataPromise = new Promise((resolve) => {\n",
              "      const reader = new FileReader();\n",
              "      reader.onload = (e) => {\n",
              "        resolve(e.target.result);\n",
              "      };\n",
              "      reader.readAsArrayBuffer(file);\n",
              "    });\n",
              "    // Wait for the data to be ready.\n",
              "    let fileData = yield {\n",
              "      promise: fileDataPromise,\n",
              "      response: {\n",
              "        action: 'continue',\n",
              "      }\n",
              "    };\n",
              "\n",
              "    // Use a chunked sending to avoid message size limits. See b/62115660.\n",
              "    let position = 0;\n",
              "    do {\n",
              "      const length = Math.min(fileData.byteLength - position, MAX_PAYLOAD_SIZE);\n",
              "      const chunk = new Uint8Array(fileData, position, length);\n",
              "      position += length;\n",
              "\n",
              "      const base64 = btoa(String.fromCharCode.apply(null, chunk));\n",
              "      yield {\n",
              "        response: {\n",
              "          action: 'append',\n",
              "          file: file.name,\n",
              "          data: base64,\n",
              "        },\n",
              "      };\n",
              "\n",
              "      let percentDone = fileData.byteLength === 0 ?\n",
              "          100 :\n",
              "          Math.round((position / fileData.byteLength) * 100);\n",
              "      percent.textContent = `${percentDone}% done`;\n",
              "\n",
              "    } while (position < fileData.byteLength);\n",
              "  }\n",
              "\n",
              "  // All done.\n",
              "  yield {\n",
              "    response: {\n",
              "      action: 'complete',\n",
              "    }\n",
              "  };\n",
              "}\n",
              "\n",
              "scope.google = scope.google || {};\n",
              "scope.google.colab = scope.google.colab || {};\n",
              "scope.google.colab._files = {\n",
              "  _uploadFiles,\n",
              "  _uploadFilesContinue,\n",
              "};\n",
              "})(self);\n",
              "</script> "
            ]
          },
          "metadata": {}
        },
        {
          "output_type": "stream",
          "name": "stdout",
          "text": [
            "Saving scissors.jpeg to scissors.jpeg\n"
          ]
        }
      ]
    },
    {
      "cell_type": "code",
      "source": [
        "img=Image.open(file).convert('RGBA')\n",
        "img=img.resize((64,64))\n",
        "plt.imshow(img)"
      ],
      "metadata": {
        "colab": {
          "base_uri": "https://localhost:8080/",
          "height": 285
        },
        "id": "mWyN1zweDKNf",
        "outputId": "4ea27b29-0a0d-45fd-c057-e98bc4f5ed14"
      },
      "execution_count": 144,
      "outputs": [
        {
          "output_type": "execute_result",
          "data": {
            "text/plain": [
              "<matplotlib.image.AxesImage at 0x7f43e3db64d0>"
            ]
          },
          "metadata": {},
          "execution_count": 144
        },
        {
          "output_type": "display_data",
          "data": {
            "text/plain": [
              "<Figure size 432x288 with 1 Axes>"
            ],
            "image/png": "[encoded data removed]"
          },
          "metadata": {
            "needs_background": "light"
          }
        }
      ]
    },
    {
      "cell_type": "code",
      "source": [
        "img_2d=np.array(img)\n",
        "img_2d=img_2d.reshape(-1,64,64,4)"
      ],
      "metadata": {
        "id": "0TMECTo9_he5"
      },
      "execution_count": 145,
      "outputs": []
    },
    {
      "cell_type": "code",
      "source": [
        "res=model.predict(img_2d)\n",
        "res=np.round_(res)\n",
        "res=res.reshape(3)\n",
        "human=0\n",
        "for i in res :\n",
        "  if i==1:\n",
        "    break\n",
        "  human+=1\n",
        "  \n",
        "if human==0:\n",
        "  print(\"Rock !!!\")\n",
        "elif human==1:\n",
        "  print(\"Paper !!!\")\n",
        "else:\n",
        "  print(\"Scissors !!!\")\n"
      ],
      "metadata": {
        "colab": {
          "base_uri": "https://localhost:8080/"
        },
        "id": "6YTuFcwY_3zN",
        "outputId": "cef48b29-024c-4faf-9a81-e845745ae134"
      },
      "execution_count": 146,
      "outputs": [
        {
          "output_type": "stream",
          "name": "stdout",
          "text": [
            "1/1 [==============================] - 0s 17ms/step\n",
            "Scissors !!!\n"
          ]
        }
      ]
    },
    {
      "cell_type": "markdown",
      "source": [
        "# **Rock Paper Scissors Game**"
      ],
      "metadata": {
        "id": "k4udHixlTas4"
      }
    },
    {
      "cell_type": "code",
      "source": [
        "import random\n",
        "computer=random.randint(0,2)\n",
        "if(computer==0 and human==1):\n",
        "  print('Rock from computer side !!!')\n",
        "  print('Paper from your side !!!')\n",
        "  print('You Win 🥳🥳🥳')\n",
        "\n",
        "elif(computer==0 and human==2):\n",
        "  print('Rock from computer side !!!')\n",
        "  print('Scissors from your side !!!')\n",
        "  print('Computer Wins 🥲🥲🥲')\n",
        "\n",
        "elif(computer==1 and human==0):\n",
        "  print('Paper from computer side !!!')\n",
        "  print('Rock from your side !!!')\n",
        "  print('Computer Wins 🥲🥲🥲')\n",
        "\n",
        "elif(computer==1 and human==2):\n",
        "  print('Paper from computer side !!!')\n",
        "  print('Scissors from your side !!!')\n",
        "  print('You Win 🥳🥳🥳')\n",
        "\n",
        "elif(computer==2 and human==0):\n",
        "  print('Scissors from computer side !!!')\n",
        "  print('Rock from your side !!!')\n",
        "  print('You Win 🥳🥳🥳')\n",
        "\n",
        "elif(computer==2 and human==1):\n",
        "  print('Scissors from computer side !!!')\n",
        "  print('Paper from your side !!!')\n",
        "  print('Computer Wins 🥲🥲🥲')\n",
        "\n",
        "else:\n",
        "  print('Draw 😶‍🌫️😶‍🌫️😶‍🌫️')\n"
      ],
      "metadata": {
        "colab": {
          "base_uri": "https://localhost:8080/"
        },
        "id": "dmaF9hUZTYLF",
        "outputId": "16e37af0-cdd2-488d-93c5-4aa698e1ecb2"
      },
      "execution_count": 151,
      "outputs": [
        {
          "output_type": "stream",
          "name": "stdout",
          "text": [
            "Paper from computer side !!!\n",
            "Scissors from your side !!!\n",
            "You Win 🥳🥳🥳\n"
          ]
        }
      ]
    },
    {
      "cell_type": "code",
      "source": [],
      "metadata": {
        "id": "WrkCXc9uW-_7"
      },
      "execution_count": null,
      "outputs": []
    }
  ]
}